{
 "cells": [
  {
   "cell_type": "code",
   "execution_count": 1,
   "metadata": {},
   "outputs": [],
   "source": [
    "# Useful starting lines\n",
    "%matplotlib inline\n",
    "import numpy as np\n",
    "import matplotlib.pyplot as plt\n",
    "%load_ext autoreload\n",
    "%autoreload 2"
   ]
  },
  {
   "cell_type": "markdown",
   "metadata": {},
   "source": [
    "# Load the data"
   ]
  },
  {
   "cell_type": "code",
   "execution_count": 2,
   "metadata": {},
   "outputs": [],
   "source": [
    "import datetime\n",
    "from helpers import *\n",
    "\n",
    "height, weight, gender = load_data(sub_sample=False, add_outlier=False)\n",
    "x, mean_x, std_x = standardize(height)\n",
    "y, tx = build_model_data(x, weight)"
   ]
  },
  {
   "cell_type": "code",
   "execution_count": 3,
   "metadata": {},
   "outputs": [
    {
     "data": {
      "text/plain": [
       "((10000,), (10000, 2))"
      ]
     },
     "execution_count": 3,
     "metadata": {},
     "output_type": "execute_result"
    }
   ],
   "source": [
    "y.shape, tx.shape"
   ]
  },
  {
   "cell_type": "markdown",
   "metadata": {},
   "source": [
    "# 1 Computing the Cost Function"
   ]
  },
  {
   "cell_type": "markdown",
   "metadata": {},
   "source": [
    "Fill in the `compute_loss` function below:\n",
    "<a id='compute_loss'></a>\n"
   ]
  },
  {
   "cell_type": "code",
   "execution_count": 20,
   "metadata": {},
   "outputs": [],
   "source": [
    "def calculate_mse(e):\n",
    "    \"\"\"Calculate the mse for vector e.\"\"\"\n",
    "    return 1/2*np.mean(e**2)\n",
    "\n",
    "\n",
    "def calculate_mae(e):\n",
    "    \"\"\"Calculate the mae for vector e.\"\"\"\n",
    "    return np.mean(np.abs(e))\n",
    "\n",
    "\n",
    "def compute_loss(y, tx, w, with_mae = False):\n",
    "    \"\"\"Calculate the loss.\n",
    "\n",
    "    You can calculate the loss using mse or mae.\n",
    "    \"\"\"\n",
    "    e = y - tx.dot(w)\n",
    "    if with_mae :\n",
    "        return calculate_mae(e)\n",
    "    else :\n",
    "        return calculate_mse(e)"
   ]
  },
  {
   "cell_type": "markdown",
   "metadata": {},
   "source": [
    "# 2 Grid Search\n",
    "\n",
    "Fill in the function `grid_search()` below:"
   ]
  },
  {
   "cell_type": "code",
   "execution_count": 21,
   "metadata": {},
   "outputs": [],
   "source": [
    "def grid_search(y, tx, w0, w1):\n",
    "    \"\"\"Algorithm for grid search.\"\"\"\n",
    "    loss = np.zeros((len(w0), len(w1)))\n",
    "    # compute loss for each combinationof w0 and w1.\n",
    "    for ind_row, row in enumerate(w0):\n",
    "        for ind_col, col in enumerate(w1):\n",
    "            w = np.array([row, col])\n",
    "            loss[ind_row, ind_col] = compute_loss(y, tx, w)\n",
    "    return loss"
   ]
  },
  {
   "cell_type": "markdown",
   "metadata": {},
   "source": [
    "Let us play with the grid search demo now!"
   ]
  },
  {
   "cell_type": "code",
   "execution_count": 22,
   "metadata": {},
   "outputs": [
    {
     "name": "stdout",
     "output_type": "stream",
     "text": [
      "Grid Search: loss*=71.12701961084929, w0*=71.42857142857142, w1*=9.183673469387742, execution time=0.036 seconds\n"
     ]
    },
    {
     "data": {
      "image/png": "[encoded data removed]",
      "text/plain": [
       "<Figure size 720x432 with 3 Axes>"
      ]
     },
     "metadata": {
      "needs_background": "light"
     },
     "output_type": "display_data"
    }
   ],
   "source": [
    "from grid_search import generate_w, get_best_parameters\n",
    "from plots import grid_visualization\n",
    "\n",
    "# Generate the grid of parameters to be swept\n",
    "grid_w0, grid_w1 = generate_w(num_intervals=50)\n",
    "\n",
    "# Start the grid search\n",
    "start_time = datetime.datetime.now()\n",
    "grid_losses = grid_search(y, tx, grid_w0, grid_w1)\n",
    "\n",
    "# Select the best combinaison\n",
    "loss_star, w0_star, w1_star = get_best_parameters(grid_w0, grid_w1, grid_losses)\n",
    "end_time = datetime.datetime.now()\n",
    "execution_time = (end_time - start_time).total_seconds()\n",
    "\n",
    "# Print the results\n",
    "print(\"Grid Search: loss*={l}, w0*={w0}, w1*={w1}, execution time={t:.3f} seconds\".format(\n",
    "      l=loss_star, w0=w0_star, w1=w1_star, t=execution_time))\n",
    "\n",
    "# Plot the results\n",
    "fig = grid_visualization(grid_losses, grid_w0, grid_w1, mean_x, std_x, height, weight)\n",
    "fig.set_size_inches(10.0,6.0)\n",
    "fig.savefig(\"grid_plot\")  # Optional saving"
   ]
  },
  {
   "cell_type": "markdown",
   "metadata": {},
   "source": [
    "# 3 Gradient Descent"
   ]
  },
  {
   "cell_type": "markdown",
   "metadata": {},
   "source": [
    "Again, please fill in the functions `compute_gradient` below:"
   ]
  },
  {
   "cell_type": "code",
   "execution_count": 23,
   "metadata": {},
   "outputs": [],
   "source": [
    "def compute_gradient(y, tx, w):\n",
    "    \"\"\"Compute the gradient.\"\"\"\n",
    "    err = y - tx.dot(w)\n",
    "    grad = -tx.T.dot(err) / len(err)\n",
    "    return grad, err"
   ]
  },
  {
   "cell_type": "markdown",
   "metadata": {},
   "source": [
    "Please fill in the functions `gradient_descent` below:"
   ]
  },
  {
   "cell_type": "code",
   "execution_count": 24,
   "metadata": {},
   "outputs": [],
   "source": [
    "def gradient_descent(y, tx, initial_w, max_iters, gamma):\n",
    "    \"\"\"Gradient descent algorithm.\"\"\"\n",
    "    # Define parameters to store w and loss\n",
    "    ws = [initial_w]\n",
    "    losses = []\n",
    "    w = initial_w\n",
    "    for n_iter in range(max_iters):\n",
    "        # compute loss, gradient\n",
    "        grad, err = compute_gradient(y, tx, w)\n",
    "        loss = calculate_mse(err)\n",
    "        # gradient w by descent update\n",
    "        w = w - gamma * grad\n",
    "        # store w and loss\n",
    "        ws.append(w)\n",
    "        losses.append(loss)\n",
    "        print(\"Gradient Descent({bi}/{ti}): loss={l}, w0={w0}, w1={w1}\".format(\n",
    "              bi=n_iter, ti=max_iters - 1, l=loss, w0=w[0], w1=w[1]))\n",
    "\n",
    "    return losses, ws"
   ]
  },
  {
   "cell_type": "markdown",
   "metadata": {},
   "source": [
    "Test your gradient descent function through gradient descent demo shown below:"
   ]
  },
  {
   "cell_type": "code",
   "execution_count": 25,
   "metadata": {},
   "outputs": [
    {
     "name": "stdout",
     "output_type": "stream",
     "text": [
      "Gradient Descent(0/49): loss=2869.8351145358524, w0=51.84746409844845, w1=7.724426406192437\n",
      "Gradient Descent(1/49): loss=318.28212470159576, w0=67.401703327983, w1=10.04175432805012\n",
      "Gradient Descent(2/49): loss=88.6423556165126, w0=72.06797509684336, w1=10.736952704607411\n",
      "Gradient Descent(3/49): loss=67.9747763988552, w0=73.46785662750146, w1=10.945512217574597\n",
      "Gradient Descent(4/49): loss=66.11469426926604, w0=73.88782108669889, w1=11.00808007146475\n",
      "Gradient Descent(5/49): loss=65.94728687760302, w0=74.01381042445813, w1=11.026850427631796\n",
      "Gradient Descent(6/49): loss=65.93222021235334, w0=74.05160722578589, w1=11.03248153448191\n",
      "Gradient Descent(7/49): loss=65.93086421248087, w0=74.06294626618423, w1=11.034170866536943\n",
      "Gradient Descent(8/49): loss=65.93074217249236, w0=74.06634797830372, w1=11.034677666153454\n",
      "Gradient Descent(9/49): loss=65.93073118889338, w0=74.06736849193958, w1=11.034829706038408\n",
      "Gradient Descent(10/49): loss=65.93073020036948, w0=74.06767464603033, w1=11.034875318003893\n",
      "Gradient Descent(11/49): loss=65.93073011140233, w0=74.06776649225755, w1=11.03488900159354\n",
      "Gradient Descent(12/49): loss=65.93073010339529, w0=74.06779404612573, w1=11.034893106670433\n",
      "Gradient Descent(13/49): loss=65.93073010267464, w0=74.06780231228618, w1=11.034894338193501\n",
      "Gradient Descent(14/49): loss=65.93073010260979, w0=74.06780479213431, w1=11.034894707650421\n",
      "Gradient Descent(15/49): loss=65.93073010260395, w0=74.06780553608874, w1=11.034894818487498\n",
      "Gradient Descent(16/49): loss=65.93073010260343, w0=74.06780575927507, w1=11.03489485173862\n",
      "Gradient Descent(17/49): loss=65.93073010260338, w0=74.06780582623098, w1=11.034894861713957\n",
      "Gradient Descent(18/49): loss=65.93073010260338, w0=74.06780584631775, w1=11.034894864706558\n",
      "Gradient Descent(19/49): loss=65.93073010260339, w0=74.06780585234378, w1=11.034894865604338\n",
      "Gradient Descent(20/49): loss=65.93073010260338, w0=74.06780585415159, w1=11.034894865873673\n",
      "Gradient Descent(21/49): loss=65.93073010260338, w0=74.06780585469393, w1=11.034894865954472\n",
      "Gradient Descent(22/49): loss=65.93073010260338, w0=74.06780585485663, w1=11.034894865978712\n",
      "Gradient Descent(23/49): loss=65.93073010260336, w0=74.06780585490544, w1=11.034894865985985\n",
      "Gradient Descent(24/49): loss=65.93073010260338, w0=74.06780585492008, w1=11.034894865988168\n",
      "Gradient Descent(25/49): loss=65.93073010260338, w0=74.06780585492449, w1=11.03489486598882\n",
      "Gradient Descent(26/49): loss=65.93073010260336, w0=74.06780585492581, w1=11.034894865989017\n",
      "Gradient Descent(27/49): loss=65.93073010260336, w0=74.06780585492619, w1=11.034894865989077\n",
      "Gradient Descent(28/49): loss=65.93073010260338, w0=74.06780585492632, w1=11.034894865989095\n",
      "Gradient Descent(29/49): loss=65.93073010260338, w0=74.06780585492635, w1=11.0348948659891\n",
      "Gradient Descent(30/49): loss=65.93073010260338, w0=74.06780585492636, w1=11.0348948659891\n",
      "Gradient Descent(31/49): loss=65.93073010260339, w0=74.06780585492636, w1=11.0348948659891\n",
      "Gradient Descent(32/49): loss=65.93073010260339, w0=74.06780585492636, w1=11.0348948659891\n",
      "Gradient Descent(33/49): loss=65.93073010260339, w0=74.06780585492636, w1=11.0348948659891\n",
      "Gradient Descent(34/49): loss=65.93073010260339, w0=74.06780585492636, w1=11.0348948659891\n",
      "Gradient Descent(35/49): loss=65.93073010260339, w0=74.06780585492636, w1=11.0348948659891\n",
      "Gradient Descent(36/49): loss=65.93073010260339, w0=74.06780585492636, w1=11.0348948659891\n",
      "Gradient Descent(37/49): loss=65.93073010260339, w0=74.06780585492636, w1=11.0348948659891\n",
      "Gradient Descent(38/49): loss=65.93073010260339, w0=74.06780585492636, w1=11.0348948659891\n",
      "Gradient Descent(39/49): loss=65.93073010260339, w0=74.06780585492636, w1=11.0348948659891\n",
      "Gradient Descent(40/49): loss=65.93073010260339, w0=74.06780585492636, w1=11.0348948659891\n",
      "Gradient Descent(41/49): loss=65.93073010260339, w0=74.06780585492636, w1=11.0348948659891\n",
      "Gradient Descent(42/49): loss=65.93073010260339, w0=74.06780585492636, w1=11.0348948659891\n",
      "Gradient Descent(43/49): loss=65.93073010260339, w0=74.06780585492636, w1=11.0348948659891\n",
      "Gradient Descent(44/49): loss=65.93073010260339, w0=74.06780585492636, w1=11.0348948659891\n",
      "Gradient Descent(45/49): loss=65.93073010260339, w0=74.06780585492636, w1=11.0348948659891\n",
      "Gradient Descent(46/49): loss=65.93073010260339, w0=74.06780585492636, w1=11.0348948659891\n",
      "Gradient Descent(47/49): loss=65.93073010260339, w0=74.06780585492636, w1=11.0348948659891\n",
      "Gradient Descent(48/49): loss=65.93073010260339, w0=74.06780585492636, w1=11.0348948659891\n",
      "Gradient Descent(49/49): loss=65.93073010260339, w0=74.06780585492636, w1=11.0348948659891\n",
      "Gradient Descent: execution time=0.004 seconds\n"
     ]
    }
   ],
   "source": [
    "# from gradient_descent import *\n",
    "from plots import gradient_descent_visualization\n",
    "\n",
    "# Define the parameters of the algorithm.\n",
    "max_iters = 50\n",
    "gamma = 0.7\n",
    "\n",
    "# Initialization\n",
    "w_initial = np.array([0, 0])\n",
    "\n",
    "# Start gradient descent.\n",
    "start_time = datetime.datetime.now()\n",
    "gradient_losses, gradient_ws = gradient_descent(y, tx, w_initial, max_iters, gamma)\n",
    "end_time = datetime.datetime.now()\n",
    "\n",
    "# Print result\n",
    "exection_time = (end_time - start_time).total_seconds()\n",
    "print(\"Gradient Descent: execution time={t:.3f} seconds\".format(t=exection_time))"
   ]
  },
  {
   "cell_type": "code",
   "execution_count": 26,
   "metadata": {},
   "outputs": [
    {
     "data": {
      "application/vnd.jupyter.widget-view+json": {
       "model_id": "bcf2b5c186194b709ec17bb520193c61",
       "version_major": 2,
       "version_minor": 0
      },
      "text/plain": [
       "interactive(children=(IntSlider(value=1, description='n_iter', max=51, min=1), Output()), _dom_classes=('widge…"
      ]
     },
     "metadata": {},
     "output_type": "display_data"
    },
    {
     "data": {
      "text/plain": [
       "<function __main__.plot_figure(n_iter)>"
      ]
     },
     "execution_count": 26,
     "metadata": {},
     "output_type": "execute_result"
    }
   ],
   "source": [
    "# Time Visualization\n",
    "from ipywidgets import IntSlider, interact\n",
    "\n",
    "def plot_figure(n_iter):\n",
    "    fig = gradient_descent_visualization(\n",
    "        gradient_losses, gradient_ws, grid_losses, grid_w0, grid_w1, mean_x, std_x, height, weight, n_iter)\n",
    "    fig.set_size_inches(10.0, 6.0)\n",
    "\n",
    "interact(plot_figure, n_iter=IntSlider(min=1, max=len(gradient_ws)))"
   ]
  },
  {
   "cell_type": "markdown",
   "metadata": {},
   "source": [
    "# 4 Stochastic gradient descent"
   ]
  },
  {
   "cell_type": "code",
   "execution_count": 27,
   "metadata": {},
   "outputs": [],
   "source": [
    "def compute_stoch_gradient(y, tx, w):\n",
    "    \"\"\"Compute a stochastic gradient from just few examples n and their corresponding y_n labels.\"\"\"\n",
    "    err = y - tx.dot(w)\n",
    "    grad = -tx.T.dot(err) / len(err)\n",
    "    return grad, err\n",
    "\n",
    "def stochastic_gradient_descent(\n",
    "        y, tx, initial_w, batch_size, max_iters, gamma):\n",
    "    \"\"\"Stochastic gradient descent.\"\"\"\n",
    "    # Define parameters to store w and loss\n",
    "    ws = [initial_w]\n",
    "    losses = []\n",
    "    w = initial_w\n",
    "    \n",
    "    for n_iter in range(max_iters):\n",
    "        for y_batch, tx_batch in batch_iter(y, tx, batch_size=batch_size):\n",
    "            # compute a stochastic gradient and loss\n",
    "            grad, _ = compute_stoch_gradient(y_batch, tx_batch, w)\n",
    "            # update w through the stochastic gradient update\n",
    "            w = w - gamma * grad\n",
    "            # calculate loss\n",
    "            loss = compute_loss(y, tx, w)\n",
    "            # store w and loss\n",
    "            ws.append(w)\n",
    "            losses.append(loss)\n",
    "        \n",
    "        print(\"Gradient Descent({bi}/{ti}): loss={l}, w0={w0}, w1={w1}\".format(\n",
    "              bi=n_iter, ti=max_iters - 1, l=loss, w0=w[0], w1=w[1]))\n",
    "\n",
    "    return losses, ws"
   ]
  },
  {
   "cell_type": "code",
   "execution_count": 28,
   "metadata": {},
   "outputs": [
    {
     "name": "stdout",
     "output_type": "stream",
     "text": [
      "Gradient Descent(0/49): loss=1596.7992558837875, w0=39.930682349503755, w1=-32.51270954961437\n",
      "Gradient Descent(1/49): loss=324.4198981964715, w0=94.12158670820622, w1=21.750500760028032\n",
      "Gradient Descent(2/49): loss=178.99337991670262, w0=70.8815449169083, w1=25.730916125604196\n",
      "Gradient Descent(3/49): loss=208.9894398699265, w0=74.40694362326253, w1=27.946500499657777\n",
      "Gradient Descent(4/49): loss=194.00305237216043, w0=79.36045205927535, w1=26.138951959853127\n",
      "Gradient Descent(5/49): loss=197.43438430273, w0=84.12576252695199, w1=23.756719262824177\n",
      "Gradient Descent(6/49): loss=200.7654830468934, w0=83.69308143851313, w1=24.33991556603268\n",
      "Gradient Descent(7/49): loss=244.83423559267348, w0=76.12356460275157, w1=29.838640954225887\n",
      "Gradient Descent(8/49): loss=176.30492910105292, w0=82.19169121022261, w1=23.474785730900333\n",
      "Gradient Descent(9/49): loss=80.58797983162752, w0=68.9263170138751, w1=9.337958816695071\n",
      "Gradient Descent(10/49): loss=124.08412788904377, w0=64.09653351581095, w1=15.143486292752366\n",
      "Gradient Descent(11/49): loss=72.8616921179211, w0=73.40836716342018, w1=7.370598938695557\n",
      "Gradient Descent(12/49): loss=89.7432464630048, w0=80.81939559918858, w1=9.606235128341208\n",
      "Gradient Descent(13/49): loss=101.9584309016062, w0=74.12850727056126, w1=19.52322314287293\n",
      "Gradient Descent(14/49): loss=153.35691152810097, w0=64.09708143709467, w1=19.720343468948546\n",
      "Gradient Descent(15/49): loss=68.48892578003016, w0=72.29839627189477, w1=12.444001349662187\n",
      "Gradient Descent(16/49): loss=86.54980472205105, w0=79.41508238322847, w1=14.590845226830034\n",
      "Gradient Descent(17/49): loss=112.4467156349217, w0=71.46907760754462, w1=20.32352138237444\n",
      "Gradient Descent(18/49): loss=119.50446324865726, w0=70.56076328369474, w1=20.77389474768522\n",
      "Gradient Descent(19/49): loss=122.419690848285, w0=71.42632440234246, w1=21.330549154426457\n",
      "Gradient Descent(20/49): loss=108.92321837174059, w0=69.43315443325996, w1=19.066394273815767\n",
      "Gradient Descent(21/49): loss=89.8370417785566, w0=71.81295248823722, w1=17.571580543504663\n",
      "Gradient Descent(22/49): loss=84.19406670575951, w0=70.31700388496371, w1=15.773898747443154\n",
      "Gradient Descent(23/49): loss=83.78296315975703, w0=73.76235206091962, w1=17.002403901929824\n",
      "Gradient Descent(24/49): loss=74.73341235111047, w0=76.17788121202919, w1=14.66159398286681\n",
      "Gradient Descent(25/49): loss=72.97199784407975, w0=72.1597235835779, w1=7.803524022412274\n",
      "Gradient Descent(26/49): loss=78.73768414595293, w0=76.15978442881247, w1=6.426474992203663\n",
      "Gradient Descent(27/49): loss=114.05727709903604, w0=83.41556177302878, w1=14.013578012691093\n",
      "Gradient Descent(28/49): loss=76.07293588119991, w0=75.7197002539313, w1=15.224841936266865\n",
      "Gradient Descent(29/49): loss=108.19469080562382, w0=71.34233273303502, w1=19.815539356451563\n",
      "Gradient Descent(30/49): loss=97.41540738597239, w0=72.63781219393064, w1=18.840307904147306\n",
      "Gradient Descent(31/49): loss=97.41496079601542, w0=72.63775886384248, w1=18.840240917902243\n",
      "Gradient Descent(32/49): loss=87.52202806148388, w0=70.93233422856234, w1=16.809963142470963\n",
      "Gradient Descent(33/49): loss=97.42511906919204, w0=69.70780929048904, w1=17.666576997339494\n",
      "Gradient Descent(34/49): loss=144.07680428861016, w0=75.77973855365698, w1=23.418813260706926\n",
      "Gradient Descent(35/49): loss=160.40707611768852, w0=71.4817580018463, w1=24.53545220751209\n",
      "Gradient Descent(36/49): loss=191.28169226540948, w0=68.28573501419552, w1=25.774962067952004\n",
      "Gradient Descent(37/49): loss=190.2622748941544, w0=69.97806834046868, w1=26.264377347214115\n",
      "Gradient Descent(38/49): loss=187.66319442578185, w0=75.59343103340285, w1=26.563494173755252\n",
      "Gradient Descent(39/49): loss=173.35549517878056, w0=80.51650646586438, w1=24.197865297576406\n",
      "Gradient Descent(40/49): loss=85.09297584363904, w0=67.8843546074251, w1=10.735859497100577\n",
      "Gradient Descent(41/49): loss=90.4683137181736, w0=74.88994545707975, w1=17.99185208202195\n",
      "Gradient Descent(42/49): loss=90.8530018295364, w0=74.93797798540862, w1=18.041130939459507\n",
      "Gradient Descent(43/49): loss=84.83810747869613, w0=71.91171721378646, w1=16.793891004530348\n",
      "Gradient Descent(44/49): loss=75.10113730262985, w0=72.92597151464194, w1=15.162488443292974\n",
      "Gradient Descent(45/49): loss=88.46195885201296, w0=69.32234709858318, w1=15.782850077515956\n",
      "Gradient Descent(46/49): loss=90.8017308023345, w0=69.04324060816803, w1=15.984212544268678\n",
      "Gradient Descent(47/49): loss=67.80440731360135, w0=73.97574207232887, w1=9.101276837026358\n",
      "Gradient Descent(48/49): loss=97.02684676713167, w0=66.5621003348812, w1=13.454939901813862\n",
      "Gradient Descent(49/49): loss=81.13076134858153, w0=72.97692422319207, w1=5.630263541143618\n",
      "SGD: execution time=0.019 seconds\n"
     ]
    }
   ],
   "source": [
    "# from stochastic_gradient_descent import *\n",
    "\n",
    "# Define the parameters of the algorithm.\n",
    "max_iters = 50\n",
    "gamma = 0.7\n",
    "batch_size = 1\n",
    "\n",
    "# Initialization\n",
    "w_initial = np.array([0, 0])\n",
    "\n",
    "# Start SGD.\n",
    "start_time = datetime.datetime.now()\n",
    "sgd_losses, sgd_ws = stochastic_gradient_descent(\n",
    "    y, tx, w_initial, batch_size, max_iters, gamma)\n",
    "end_time = datetime.datetime.now()\n",
    "\n",
    "# Print result\n",
    "exection_time = (end_time - start_time).total_seconds()\n",
    "print(\"SGD: execution time={t:.3f} seconds\".format(t=exection_time))"
   ]
  },
  {
   "cell_type": "code",
   "execution_count": 29,
   "metadata": {},
   "outputs": [
    {
     "data": {
      "application/vnd.jupyter.widget-view+json": {
       "model_id": "8016b9f853f84f74a46a5f47d2dd7c6e",
       "version_major": 2,
       "version_minor": 0
      },
      "text/plain": [
       "interactive(children=(IntSlider(value=1, description='n_iter', max=51, min=1), Output()), _dom_classes=('widge…"
      ]
     },
     "metadata": {},
     "output_type": "display_data"
    },
    {
     "data": {
      "text/plain": [
       "<function __main__.plot_figure(n_iter)>"
      ]
     },
     "execution_count": 29,
     "metadata": {},
     "output_type": "execute_result"
    }
   ],
   "source": [
    "# Time Visualization\n",
    "from ipywidgets import IntSlider, interact\n",
    "def plot_figure(n_iter):\n",
    "    fig = gradient_descent_visualization(\n",
    "        sgd_losses, sgd_ws, grid_losses, grid_w0, grid_w1, mean_x, std_x, height, weight, n_iter)\n",
    "    fig.set_size_inches(10.0, 6.0)\n",
    "\n",
    "interact(plot_figure, n_iter=IntSlider(min=1, max=len(gradient_ws)))"
   ]
  },
  {
   "cell_type": "markdown",
   "metadata": {},
   "source": [
    "# 5 Effect of Outliers and MAE Cost Function, and Subgradient Descent"
   ]
  },
  {
   "cell_type": "markdown",
   "metadata": {},
   "source": [
    "### Exercise 5\n",
    "\n",
    "Load and plot data containing outliers"
   ]
  },
  {
   "cell_type": "code",
   "execution_count": 30,
   "metadata": {},
   "outputs": [
    {
     "data": {
      "text/plain": [
       "<matplotlib.collections.PathCollection at 0x11cc23a20>"
      ]
     },
     "execution_count": 30,
     "metadata": {},
     "output_type": "execute_result"
    },
    {
     "data": {
      "image/png": "[encoded data removed]",
      "text/plain": [
       "<Figure size 432x288 with 1 Axes>"
      ]
     },
     "metadata": {
      "needs_background": "light"
     },
     "output_type": "display_data"
    }
   ],
   "source": [
    "height, weight, gender = load_data(sub_sample=True, add_outlier=False)\n",
    "x, mean_x, std_x = standardize(height)\n",
    "y, tx = build_model_data(x, weight)\n",
    "\n",
    "plt.scatter(x,weight)"
   ]
  },
  {
   "cell_type": "code",
   "execution_count": 31,
   "metadata": {},
   "outputs": [
    {
     "name": "stdout",
     "output_type": "stream",
     "text": [
      "Gradient Descent(0/49): loss=2829.2722244384163, w0=51.542590721811784, w1=10.132993413506092\n",
      "Gradient Descent(1/49): loss=267.0500258779424, w0=67.00536793835532, w1=13.17289143755783\n",
      "Gradient Descent(2/49): loss=36.45002800750035, w0=71.64420110331838, w1=14.084860844773326\n",
      "Gradient Descent(3/49): loss=15.696028199160633, w0=73.03585105280729, w1=14.358451666937965\n",
      "Gradient Descent(4/49): loss=13.828168216410077, w0=73.45334603765397, w1=14.440528913587356\n",
      "Gradient Descent(5/49): loss=13.660060817962522, w0=73.57859453310797, w1=14.46515208758217\n",
      "Gradient Descent(6/49): loss=13.644931152102242, w0=73.61616908174418, w1=14.472539039780616\n",
      "Gradient Descent(7/49): loss=13.643569482174817, w0=73.62744144633503, w1=14.474755125440149\n",
      "Gradient Descent(8/49): loss=13.643446931881353, w0=73.63082315571229, w1=14.47541995113801\n",
      "Gradient Descent(9/49): loss=13.643435902354941, w0=73.63183766852546, w1=14.475619398847368\n",
      "Gradient Descent(10/49): loss=13.64343490969756, w0=73.63214202236942, w1=14.475679233160175\n",
      "Gradient Descent(11/49): loss=13.643434820358397, w0=73.6322333285226, w1=14.475697183454017\n",
      "Gradient Descent(12/49): loss=13.643434812317876, w0=73.63226072036856, w1=14.47570256854217\n",
      "Gradient Descent(13/49): loss=13.64343481159423, w0=73.63226893792235, w1=14.475704184068615\n",
      "Gradient Descent(14/49): loss=13.643434811529096, w0=73.63227140318848, w1=14.475704668726548\n",
      "Gradient Descent(15/49): loss=13.643434811523234, w0=73.63227214276833, w1=14.47570481412393\n",
      "Gradient Descent(16/49): loss=13.643434811522706, w0=73.63227236464228, w1=14.475704857743143\n",
      "Gradient Descent(17/49): loss=13.64343481152266, w0=73.63227243120446, w1=14.475704870828908\n",
      "Gradient Descent(18/49): loss=13.643434811522656, w0=73.63227245117312, w1=14.475704874754637\n",
      "Gradient Descent(19/49): loss=13.643434811522656, w0=73.63227245716372, w1=14.475704875932356\n",
      "Gradient Descent(20/49): loss=13.643434811522653, w0=73.6322724589609, w1=14.475704876285672\n",
      "Gradient Descent(21/49): loss=13.643434811522656, w0=73.63227245950004, w1=14.475704876391665\n",
      "Gradient Descent(22/49): loss=13.643434811522656, w0=73.63227245966179, w1=14.475704876423464\n",
      "Gradient Descent(23/49): loss=13.643434811522654, w0=73.63227245971032, w1=14.475704876433003\n",
      "Gradient Descent(24/49): loss=13.643434811522656, w0=73.63227245972487, w1=14.475704876435865\n",
      "Gradient Descent(25/49): loss=13.643434811522656, w0=73.63227245972924, w1=14.475704876436724\n",
      "Gradient Descent(26/49): loss=13.643434811522654, w0=73.63227245973056, w1=14.475704876436982\n",
      "Gradient Descent(27/49): loss=13.643434811522654, w0=73.63227245973094, w1=14.475704876437058\n",
      "Gradient Descent(28/49): loss=13.643434811522656, w0=73.63227245973106, w1=14.475704876437081\n",
      "Gradient Descent(29/49): loss=13.643434811522654, w0=73.6322724597311, w1=14.475704876437089\n",
      "Gradient Descent(30/49): loss=13.643434811522656, w0=73.63227245973111, w1=14.47570487643709\n",
      "Gradient Descent(31/49): loss=13.643434811522656, w0=73.63227245973111, w1=14.475704876437092\n",
      "Gradient Descent(32/49): loss=13.643434811522654, w0=73.63227245973111, w1=14.475704876437092\n",
      "Gradient Descent(33/49): loss=13.643434811522654, w0=73.63227245973111, w1=14.475704876437092\n",
      "Gradient Descent(34/49): loss=13.643434811522654, w0=73.63227245973111, w1=14.475704876437092\n",
      "Gradient Descent(35/49): loss=13.643434811522654, w0=73.63227245973111, w1=14.475704876437092\n",
      "Gradient Descent(36/49): loss=13.643434811522654, w0=73.63227245973111, w1=14.475704876437092\n",
      "Gradient Descent(37/49): loss=13.643434811522654, w0=73.63227245973111, w1=14.475704876437092\n",
      "Gradient Descent(38/49): loss=13.643434811522654, w0=73.63227245973111, w1=14.475704876437092\n",
      "Gradient Descent(39/49): loss=13.643434811522654, w0=73.63227245973111, w1=14.475704876437092\n",
      "Gradient Descent(40/49): loss=13.643434811522654, w0=73.63227245973111, w1=14.475704876437092\n",
      "Gradient Descent(41/49): loss=13.643434811522654, w0=73.63227245973111, w1=14.475704876437092\n",
      "Gradient Descent(42/49): loss=13.643434811522654, w0=73.63227245973111, w1=14.475704876437092\n",
      "Gradient Descent(43/49): loss=13.643434811522654, w0=73.63227245973111, w1=14.475704876437092\n",
      "Gradient Descent(44/49): loss=13.643434811522654, w0=73.63227245973111, w1=14.475704876437092\n",
      "Gradient Descent(45/49): loss=13.643434811522654, w0=73.63227245973111, w1=14.475704876437092\n",
      "Gradient Descent(46/49): loss=13.643434811522654, w0=73.63227245973111, w1=14.475704876437092\n",
      "Gradient Descent(47/49): loss=13.643434811522654, w0=73.63227245973111, w1=14.475704876437092\n",
      "Gradient Descent(48/49): loss=13.643434811522654, w0=73.63227245973111, w1=14.475704876437092\n",
      "Gradient Descent(49/49): loss=13.643434811522654, w0=73.63227245973111, w1=14.475704876437092\n",
      "Gradient Descent: execution time=0.023 seconds\n"
     ]
    }
   ],
   "source": [
    "# from gradient_descent import *\n",
    "from plots import gradient_descent_visualization\n",
    "\n",
    "# Define the parameters of the algorithm.\n",
    "max_iters = 50\n",
    "gamma = 0.7\n",
    "\n",
    "# Initialization\n",
    "w_initial = np.array([0, 0])\n",
    "\n",
    "# Start gradient descent.\n",
    "start_time = datetime.datetime.now()\n",
    "gradient_losses, gradient_ws = gradient_descent(y, tx, w_initial, max_iters, gamma)\n",
    "end_time = datetime.datetime.now()\n",
    "\n",
    "# Print result\n",
    "exection_time = (end_time - start_time).total_seconds()\n",
    "print(\"Gradient Descent: execution time={t:.3f} seconds\".format(t=exection_time))"
   ]
  },
  {
   "cell_type": "code",
   "execution_count": 32,
   "metadata": {},
   "outputs": [
    {
     "data": {
      "application/vnd.jupyter.widget-view+json": {
       "model_id": "87465fbeec6548cf959cf1ef92893809",
       "version_major": 2,
       "version_minor": 0
      },
      "text/plain": [
       "interactive(children=(IntSlider(value=1, description='n_iter', max=51, min=1), Output()), _dom_classes=('widge…"
      ]
     },
     "metadata": {},
     "output_type": "display_data"
    },
    {
     "data": {
      "text/plain": [
       "<function __main__.plot_figure(n_iter)>"
      ]
     },
     "execution_count": 32,
     "metadata": {},
     "output_type": "execute_result"
    }
   ],
   "source": [
    "# Time Visualization\n",
    "from ipywidgets import IntSlider, interact\n",
    "\n",
    "def plot_figure(n_iter):\n",
    "    fig = gradient_descent_visualization(\n",
    "        gradient_losses, gradient_ws, grid_losses, grid_w0, grid_w1, mean_x, std_x, height, weight, n_iter)\n",
    "    fig.set_size_inches(10.0, 6.0)\n",
    "\n",
    "interact(plot_figure, n_iter=IntSlider(min=1, max=len(gradient_ws)))"
   ]
  },
  {
   "cell_type": "markdown",
   "metadata": {},
   "source": [
    "#### With outliners"
   ]
  },
  {
   "cell_type": "code",
   "execution_count": 33,
   "metadata": {},
   "outputs": [
    {
     "data": {
      "text/plain": [
       "<matplotlib.collections.PathCollection at 0x11e366da0>"
      ]
     },
     "execution_count": 33,
     "metadata": {},
     "output_type": "execute_result"
    },
    {
     "data": {
      "image/png": "[encoded data removed]",
      "text/plain": [
       "<Figure size 432x288 with 1 Axes>"
      ]
     },
     "metadata": {
      "needs_background": "light"
     },
     "output_type": "display_data"
    }
   ],
   "source": [
    "height, weight, gender = load_data(sub_sample=True, add_outlier=True)\n",
    "x, mean_x, std_x = standardize(height)\n",
    "y, tx = build_model_data(x, weight)\n",
    "\n",
    "plt.scatter(x,weight)"
   ]
  },
  {
   "cell_type": "code",
   "execution_count": 34,
   "metadata": {},
   "outputs": [
    {
     "name": "stdout",
     "output_type": "stream",
     "text": [
      "Gradient Descent(0/49): loss=2869.8351145358524, w0=51.84746409844845, w1=7.724426406192437\n",
      "Gradient Descent(1/49): loss=318.28212470159576, w0=67.401703327983, w1=10.04175432805012\n",
      "Gradient Descent(2/49): loss=88.6423556165126, w0=72.06797509684336, w1=10.736952704607411\n",
      "Gradient Descent(3/49): loss=67.9747763988552, w0=73.46785662750146, w1=10.945512217574597\n",
      "Gradient Descent(4/49): loss=66.11469426926604, w0=73.88782108669889, w1=11.00808007146475\n",
      "Gradient Descent(5/49): loss=65.94728687760302, w0=74.01381042445813, w1=11.026850427631796\n",
      "Gradient Descent(6/49): loss=65.93222021235334, w0=74.05160722578589, w1=11.03248153448191\n",
      "Gradient Descent(7/49): loss=65.93086421248087, w0=74.06294626618423, w1=11.034170866536943\n",
      "Gradient Descent(8/49): loss=65.93074217249236, w0=74.06634797830372, w1=11.034677666153454\n",
      "Gradient Descent(9/49): loss=65.93073118889338, w0=74.06736849193958, w1=11.034829706038408\n",
      "Gradient Descent(10/49): loss=65.93073020036948, w0=74.06767464603033, w1=11.034875318003893\n",
      "Gradient Descent(11/49): loss=65.93073011140233, w0=74.06776649225755, w1=11.03488900159354\n",
      "Gradient Descent(12/49): loss=65.93073010339529, w0=74.06779404612573, w1=11.034893106670433\n",
      "Gradient Descent(13/49): loss=65.93073010267464, w0=74.06780231228618, w1=11.034894338193501\n",
      "Gradient Descent(14/49): loss=65.93073010260979, w0=74.06780479213431, w1=11.034894707650421\n",
      "Gradient Descent(15/49): loss=65.93073010260395, w0=74.06780553608874, w1=11.034894818487498\n",
      "Gradient Descent(16/49): loss=65.93073010260343, w0=74.06780575927507, w1=11.03489485173862\n",
      "Gradient Descent(17/49): loss=65.93073010260338, w0=74.06780582623098, w1=11.034894861713957\n",
      "Gradient Descent(18/49): loss=65.93073010260338, w0=74.06780584631775, w1=11.034894864706558\n",
      "Gradient Descent(19/49): loss=65.93073010260339, w0=74.06780585234378, w1=11.034894865604338\n",
      "Gradient Descent(20/49): loss=65.93073010260338, w0=74.06780585415159, w1=11.034894865873673\n",
      "Gradient Descent(21/49): loss=65.93073010260338, w0=74.06780585469393, w1=11.034894865954472\n",
      "Gradient Descent(22/49): loss=65.93073010260338, w0=74.06780585485663, w1=11.034894865978712\n",
      "Gradient Descent(23/49): loss=65.93073010260336, w0=74.06780585490544, w1=11.034894865985985\n",
      "Gradient Descent(24/49): loss=65.93073010260338, w0=74.06780585492008, w1=11.034894865988168\n",
      "Gradient Descent(25/49): loss=65.93073010260338, w0=74.06780585492449, w1=11.03489486598882\n",
      "Gradient Descent(26/49): loss=65.93073010260336, w0=74.06780585492581, w1=11.034894865989017\n",
      "Gradient Descent(27/49): loss=65.93073010260336, w0=74.06780585492619, w1=11.034894865989077\n",
      "Gradient Descent(28/49): loss=65.93073010260338, w0=74.06780585492632, w1=11.034894865989095\n",
      "Gradient Descent(29/49): loss=65.93073010260338, w0=74.06780585492635, w1=11.0348948659891\n",
      "Gradient Descent(30/49): loss=65.93073010260338, w0=74.06780585492636, w1=11.0348948659891\n",
      "Gradient Descent(31/49): loss=65.93073010260339, w0=74.06780585492636, w1=11.0348948659891\n",
      "Gradient Descent(32/49): loss=65.93073010260339, w0=74.06780585492636, w1=11.0348948659891\n",
      "Gradient Descent(33/49): loss=65.93073010260339, w0=74.06780585492636, w1=11.0348948659891\n",
      "Gradient Descent(34/49): loss=65.93073010260339, w0=74.06780585492636, w1=11.0348948659891\n",
      "Gradient Descent(35/49): loss=65.93073010260339, w0=74.06780585492636, w1=11.0348948659891\n",
      "Gradient Descent(36/49): loss=65.93073010260339, w0=74.06780585492636, w1=11.0348948659891\n",
      "Gradient Descent(37/49): loss=65.93073010260339, w0=74.06780585492636, w1=11.0348948659891\n",
      "Gradient Descent(38/49): loss=65.93073010260339, w0=74.06780585492636, w1=11.0348948659891\n",
      "Gradient Descent(39/49): loss=65.93073010260339, w0=74.06780585492636, w1=11.0348948659891\n",
      "Gradient Descent(40/49): loss=65.93073010260339, w0=74.06780585492636, w1=11.0348948659891\n",
      "Gradient Descent(41/49): loss=65.93073010260339, w0=74.06780585492636, w1=11.0348948659891\n",
      "Gradient Descent(42/49): loss=65.93073010260339, w0=74.06780585492636, w1=11.0348948659891\n",
      "Gradient Descent(43/49): loss=65.93073010260339, w0=74.06780585492636, w1=11.0348948659891\n",
      "Gradient Descent(44/49): loss=65.93073010260339, w0=74.06780585492636, w1=11.0348948659891\n",
      "Gradient Descent(45/49): loss=65.93073010260339, w0=74.06780585492636, w1=11.0348948659891\n",
      "Gradient Descent(46/49): loss=65.93073010260339, w0=74.06780585492636, w1=11.0348948659891\n",
      "Gradient Descent(47/49): loss=65.93073010260339, w0=74.06780585492636, w1=11.0348948659891\n",
      "Gradient Descent(48/49): loss=65.93073010260339, w0=74.06780585492636, w1=11.0348948659891\n",
      "Gradient Descent(49/49): loss=65.93073010260339, w0=74.06780585492636, w1=11.0348948659891\n",
      "Gradient Descent: execution time=0.021 seconds\n"
     ]
    }
   ],
   "source": [
    "# from gradient_descent import *\n",
    "from plots import gradient_descent_visualization\n",
    "\n",
    "# Define the parameters of the algorithm.\n",
    "max_iters = 50\n",
    "gamma = 0.7\n",
    "\n",
    "# Initialization\n",
    "w_initial = np.array([0, 0])\n",
    "\n",
    "# Start gradient descent.\n",
    "start_time = datetime.datetime.now()\n",
    "gradient_losses, gradient_ws = gradient_descent(y, tx, w_initial, max_iters, gamma)\n",
    "end_time = datetime.datetime.now()\n",
    "\n",
    "# Print result\n",
    "exection_time = (end_time - start_time).total_seconds()\n",
    "print(\"Gradient Descent: execution time={t:.3f} seconds\".format(t=exection_time))"
   ]
  },
  {
   "cell_type": "code",
   "execution_count": 35,
   "metadata": {},
   "outputs": [
    {
     "data": {
      "application/vnd.jupyter.widget-view+json": {
       "model_id": "f5f3d6ee1c8942ff84e41bc9f025e483",
       "version_major": 2,
       "version_minor": 0
      },
      "text/plain": [
       "interactive(children=(IntSlider(value=1, description='n_iter', max=51, min=1), Output()), _dom_classes=('widge…"
      ]
     },
     "metadata": {},
     "output_type": "display_data"
    },
    {
     "data": {
      "text/plain": [
       "<function __main__.plot_figure(n_iter)>"
      ]
     },
     "execution_count": 35,
     "metadata": {},
     "output_type": "execute_result"
    }
   ],
   "source": [
    "# Time Visualization\n",
    "from ipywidgets import IntSlider, interact\n",
    "\n",
    "def plot_figure(n_iter):\n",
    "    fig = gradient_descent_visualization(\n",
    "        gradient_losses, gradient_ws, grid_losses, grid_w0, grid_w1, mean_x, std_x, height, weight, n_iter)\n",
    "    fig.set_size_inches(10.0, 6.0)\n",
    "\n",
    "interact(plot_figure, n_iter=IntSlider(min=1, max=len(gradient_ws)))"
   ]
  },
  {
   "cell_type": "markdown",
   "metadata": {},
   "source": [
    "### Exercise 6"
   ]
  },
  {
   "cell_type": "markdown",
   "metadata": {},
   "source": [
    "Modify the function `compute_loss(y, tx, w)` for the Mean Absolute Error cost function [here](#compute_loss)"
   ]
  },
  {
   "cell_type": "markdown",
   "metadata": {},
   "source": [
    "#### Sub gradient"
   ]
  },
  {
   "cell_type": "code",
   "execution_count": 97,
   "metadata": {},
   "outputs": [],
   "source": [
    "def compute_sub_gradient(y, tx, w):\n",
    "    \"\"\"Compute the gradient.\"\"\"\n",
    "    err = y - tx.dot(w)\n",
    "    sub_grad = np.sign(err)\n",
    "    \n",
    "    return sub_grad.dot(-np.sum(tx,axis = 1)),err"
   ]
  },
  {
   "cell_type": "code",
   "execution_count": 98,
   "metadata": {},
   "outputs": [],
   "source": [
    "def gradient_sub_descent(y, tx, initial_w, max_iters, gamma):\n",
    "    \"\"\"Gradient descent algorithm.\"\"\"\n",
    "    # Define parameters to store w and loss\n",
    "    ws = [initial_w]\n",
    "    losses = []\n",
    "    w = initial_w\n",
    "    for n_iter in range(max_iters):\n",
    "        # compute loss, gradient\n",
    "        grad, err = compute_sub_gradient(y, tx, w)\n",
    "        loss = calculate_mae(err)\n",
    "        # gradient w by descent update\n",
    "        w = w - gamma * grad\n",
    "        # store w and loss\n",
    "        ws.append(w)\n",
    "        losses.append(loss)\n",
    "        print(\"Gradient Descent({bi}/{ti}): loss={l}, w0={w0}, w1={w1}\".format(\n",
    "              bi=n_iter, ti=max_iters - 1, l=loss, w0=w[0], w1=w[1]))\n",
    "\n",
    "    return losses, ws"
   ]
  },
  {
   "cell_type": "code",
   "execution_count": 99,
   "metadata": {},
   "outputs": [
    {
     "name": "stdout",
     "output_type": "stream",
     "text": [
      "Gradient Descent(0/49): loss=74.06780585492638, w0=60.600000000000065, w1=60.600000000000065\n",
      "Gradient Descent(1/49): loss=37.98759964875845, w0=29.33034691619054, w1=29.33034691619054\n",
      "Gradient Descent(2/49): loss=44.73745893873581, w0=89.9303469161906, w1=89.9303469161906\n",
      "Gradient Descent(3/49): loss=61.33700793972218, w0=33.548097462077095, w1=33.548097462077095\n",
      "Gradient Descent(4/49): loss=40.519708392849246, w0=94.14809746207716, w1=94.14809746207716\n",
      "Gradient Descent(5/49): loss=65.27624073094411, w0=36.970616338562365, w1=36.970616338562365\n",
      "Gradient Descent(6/49): loss=37.504427405582994, w0=81.38553654323445, w1=81.38553654323445\n",
      "Gradient Descent(7/49): loss=53.612630310262034, w0=27.814075128473334, w1=27.814075128473334\n",
      "Gradient Descent(8/49): loss=46.253730726453, w0=88.4140751284734, w1=88.4140751284734\n",
      "Gradient Descent(9/49): loss=59.93495655149446, w0=32.47397357865848, w1=32.47397357865848\n",
      "Gradient Descent(10/49): loss=41.59383227626787, w0=93.07397357865855, w1=93.07397357865855\n",
      "Gradient Descent(11/49): loss=64.26697098011911, w0=36.26379515630155, w1=36.26379515630155\n",
      "Gradient Descent(12/49): loss=38.0548970535931, w0=85.1248772665273, w1=85.1248772665273\n",
      "Gradient Descent(13/49): loss=56.94648868073882, w0=30.533802608441285, w1=30.533802608441285\n",
      "Gradient Descent(14/49): loss=43.53400324648506, w0=91.13380260844136, w1=91.13380260844136\n",
      "Gradient Descent(15/49): loss=62.456703303541566, w0=34.75155315432785, w1=34.75155315432785\n",
      "Gradient Descent(16/49): loss=39.36147302336081, w0=91.66342709680313, w1=91.66342709680313\n",
      "Gradient Descent(17/49): loss=62.949466010139275, w0=35.28117764268963, w1=35.28117764268963\n",
      "Gradient Descent(18/49): loss=38.87814842650541, w0=88.96756332434612, w1=88.96756332434612\n",
      "Gradient Descent(19/49): loss=60.44588371129221, w0=33.0274617745312, w1=33.0274617745312\n",
      "Gradient Descent(20/49): loss=41.04034408039514, w0=93.62746177453127, w1=93.62746177453127\n",
      "Gradient Descent(21/49): loss=64.78584495969332, w0=36.817283352174265, w1=36.817283352174265\n",
      "Gradient Descent(22/49): loss=37.619415802982914, w0=84.2667263809065, w1=84.2667263809065\n",
      "Gradient Descent(23/49): loss=56.17342962026311, w0=29.675651722820483, w1=29.675651722820483\n",
      "Gradient Descent(24/49): loss=44.392154132105865, w0=90.27565172282056, w1=90.27565172282056\n",
      "Gradient Descent(25/49): loss=61.65827958568116, w0=33.89340226870705, w1=33.89340226870705\n",
      "Gradient Descent(26/49): loss=40.174403586219285, w0=94.49340226870711, w1=94.49340226870711\n",
      "Gradient Descent(27/49): loss=65.60204368577816, w0=37.31592114519232, w1=37.31592114519232\n",
      "Gradient Descent(28/49): loss=37.251346787880706, w0=81.7308413498644, w1=81.7308413498644\n",
      "Gradient Descent(29/49): loss=53.91788580736943, w0=28.15937993510329, w1=28.15937993510329\n",
      "Gradient Descent(30/49): loss=45.90842591982305, w0=88.75937993510335, w1=88.75937993510335\n",
      "Gradient Descent(31/49): loss=60.25370879486936, w0=32.819278385288435, w1=32.819278385288435\n",
      "Gradient Descent(32/49): loss=41.24852746963791, w0=93.4192783852885, w1=93.4192783852885\n",
      "Gradient Descent(33/49): loss=64.59068100775515, w0=36.60909996293149, w1=36.60909996293149\n",
      "Gradient Descent(34/49): loss=37.78242217043182, w0=84.05854299166373, w1=84.05854299166373\n",
      "Gradient Descent(35/49): loss=55.98588910962406, w0=29.467468333577706, w1=29.467468333577706\n",
      "Gradient Descent(36/49): loss=44.600337521348635, w0=90.06746833357778, w1=90.06746833357778\n",
      "Gradient Descent(37/49): loss=61.46458572785131, w0=33.68521887946427, w1=33.68521887946427\n",
      "Gradient Descent(38/49): loss=40.38258697546207, w0=94.28521887946434, w1=94.28521887946434\n",
      "Gradient Descent(39/49): loss=65.40561791335806, w0=37.10773775594954, w1=37.10773775594954\n",
      "Gradient Descent(40/49): loss=37.40392844829582, w0=81.52265796062163, w1=81.52265796062163\n",
      "Gradient Descent(41/49): loss=53.73384804492696, w0=27.951196545860512, w1=27.951196545860512\n",
      "Gradient Descent(42/49): loss=46.116609309065836, w0=88.55119654586058, w1=88.55119654586058\n",
      "Gradient Descent(43/49): loss=60.0615338784465, w0=32.61109499604566, w1=32.61109499604566\n",
      "Gradient Descent(44/49): loss=41.45671085888068, w0=93.21109499604572, w1=93.21109499604572\n",
      "Gradient Descent(45/49): loss=64.39551705581698, w0=36.40091657368871, w1=36.40091657368871\n",
      "Gradient Descent(46/49): loss=37.94542853788072, w0=83.85035960242095, w1=83.85035960242095\n",
      "Gradient Descent(47/49): loss=55.79834859898502, w0=29.25928494433493, w1=29.25928494433493\n",
      "Gradient Descent(48/49): loss=44.80852091059142, w0=89.859284944335, w1=89.859284944335\n",
      "Gradient Descent(49/49): loss=61.27089187002146, w0=33.477035490221496, w1=33.477035490221496\n",
      "Gradient Descent: execution time=0.005 seconds\n"
     ]
    }
   ],
   "source": [
    "# from gradient_descent import *\n",
    "from plots import gradient_descent_visualization\n",
    "\n",
    "# Define the parameters of the algorithm.\n",
    "max_iters = 50\n",
    "gamma = 0.3\n",
    "\n",
    "# Initialization\n",
    "w_initial = np.array([0, 0])\n",
    "\n",
    "# Start gradient descent.\n",
    "start_time = datetime.datetime.now()\n",
    "gradient_losses, gradient_ws = gradient_sub_descent(y, tx, w_initial, max_iters, gamma)\n",
    "end_time = datetime.datetime.now()\n",
    "\n",
    "# Print result\n",
    "exection_time = (end_time - start_time).total_seconds()\n",
    "print(\"Gradient Descent: execution time={t:.3f} seconds\".format(t=exection_time))"
   ]
  },
  {
   "cell_type": "code",
   "execution_count": 100,
   "metadata": {},
   "outputs": [
    {
     "data": {
      "application/vnd.jupyter.widget-view+json": {
       "model_id": "618220279d434c178a89326a9f499540",
       "version_major": 2,
       "version_minor": 0
      },
      "text/plain": [
       "interactive(children=(IntSlider(value=1, description='n_iter', max=51, min=1), Output()), _dom_classes=('widge…"
      ]
     },
     "metadata": {},
     "output_type": "display_data"
    },
    {
     "data": {
      "text/plain": [
       "<function __main__.plot_figure(n_iter)>"
      ]
     },
     "execution_count": 100,
     "metadata": {},
     "output_type": "execute_result"
    }
   ],
   "source": [
    "# Time Visualization\n",
    "from ipywidgets import IntSlider, interact\n",
    "\n",
    "def plot_figure(n_iter):\n",
    "    fig = gradient_descent_visualization(\n",
    "        gradient_losses, gradient_ws, grid_losses, grid_w0, grid_w1, mean_x, std_x, height, weight, n_iter)\n",
    "    fig.set_size_inches(10.0, 6.0)\n",
    "\n",
    "interact(plot_figure, n_iter=IntSlider(min=1, max=len(gradient_ws)))"
   ]
  },
  {
   "cell_type": "markdown",
   "metadata": {},
   "source": [
    "#### Stoch sub gradient"
   ]
  },
  {
   "cell_type": "code",
   "execution_count": 101,
   "metadata": {},
   "outputs": [],
   "source": [
    "def compute_stoch_sub_gradient(y, tx, w):\n",
    "    \"\"\"Compute a stochastic gradient from just few examples n and their corresponding y_n labels.\"\"\"\n",
    "    return compute_sub_gradient(y, tx, w)\n",
    "\n",
    "def stochastic_sub_gradient_descent(\n",
    "        y, tx, initial_w, batch_size, max_iters, gamma):\n",
    "    \"\"\"Stochastic gradient descent.\"\"\"\n",
    "    # Define parameters to store w and loss\n",
    "    ws = [initial_w]\n",
    "    losses = []\n",
    "    w = initial_w\n",
    "    \n",
    "    for n_iter in range(max_iters):\n",
    "        for y_batch, tx_batch in batch_iter(y, tx, batch_size=batch_size):\n",
    "            # compute a stochastic gradient and loss\n",
    "            grad, _ = compute_stoch_sub_gradient(y_batch, tx_batch, w)\n",
    "            # update w through the stochastic gradient update\n",
    "            w = w - gamma * grad\n",
    "            # calculate loss\n",
    "            loss = compute_loss(y, tx, w)\n",
    "            # store w and loss\n",
    "            ws.append(w)\n",
    "            losses.append(loss)\n",
    "        \n",
    "        print(\"Gradient Descent({bi}/{ti}): loss={l}, w0={w0}, w1={w1}\".format(\n",
    "              bi=n_iter, ti=max_iters - 1, l=loss, w0=w[0], w1=w[1]))\n",
    "\n",
    "    return losses, ws"
   ]
  },
  {
   "cell_type": "code",
   "execution_count": 102,
   "metadata": {},
   "outputs": [
    {
     "name": "stdout",
     "output_type": "stream",
     "text": [
      "Gradient Descent(0/49): loss=327.55536750074697, w0=65.63070745796041, w1=32.29670676987448\n",
      "Gradient Descent(1/49): loss=173.56870864982702, w0=88.71583609373639, w1=11.878202174954502\n",
      "Gradient Descent(2/49): loss=78.21657594600309, w0=78.8822991129541, w1=12.214872134924786\n",
      "Gradient Descent(3/49): loss=92.1572835929885, w0=81.08366664019341, w1=12.832338723950256\n",
      "Gradient Descent(4/49): loss=99.099131940968, w0=81.8533103916555, w1=13.427116173748745\n",
      "Gradient Descent(5/49): loss=81.33888481452203, w0=79.60339559494282, w1=11.451494978881335\n",
      "Gradient Descent(6/49): loss=76.36960703313659, w0=70.45243261421187, w1=13.828965407581071\n",
      "Gradient Descent(7/49): loss=77.18302883180205, w0=70.2933504489376, w1=13.90858306177506\n",
      "Gradient Descent(8/49): loss=66.40894470943708, w0=74.6698389597713, w1=11.805599319290216\n",
      "Gradient Descent(9/49): loss=119.07832380310104, w0=66.14247447026071, w1=17.629158270208634\n",
      "Gradient Descent(10/49): loss=72.15140519159014, w0=70.64981431595298, w1=11.905919559944376\n",
      "Gradient Descent(11/49): loss=70.09034947975867, w0=71.18857359119254, w1=10.863838367180179\n",
      "Gradient Descent(12/49): loss=73.58258073165526, w0=74.97855466357183, w1=14.839397181096112\n",
      "Gradient Descent(13/49): loss=81.92121747087393, w0=77.63834817009251, w1=15.420348355897419\n",
      "Gradient Descent(14/49): loss=89.27643518189939, w0=78.58107123074286, w1=16.165376890716207\n",
      "Gradient Descent(15/49): loss=66.29797575351493, w0=73.56589417818425, w1=11.729571748124243\n",
      "Gradient Descent(16/49): loss=109.57761833852311, w0=80.50524747831687, w1=17.806388188534633\n",
      "Gradient Descent(17/49): loss=116.05867984532463, w0=79.19424070888188, w1=19.63579977033449\n",
      "Gradient Descent(18/49): loss=114.70882804046657, w0=79.53439392605316, w1=19.2612312763446\n",
      "Gradient Descent(19/49): loss=145.13431844974872, w0=75.44991206243115, w1=23.54476933080558\n",
      "Gradient Descent(20/49): loss=88.81257090766574, w0=67.34970304691527, w1=11.829109113606293\n",
      "Gradient Descent(21/49): loss=78.94312302751312, w0=68.96672256192912, w1=10.973779501932038\n",
      "Gradient Descent(22/49): loss=70.40523201371091, w0=71.35808240421309, w1=9.767455461966321\n",
      "Gradient Descent(23/49): loss=82.76691324397615, w0=68.30179530435635, w1=11.68718974827837\n",
      "Gradient Descent(24/49): loss=96.22719802027426, w0=66.58737149648182, w1=13.188040853688069\n",
      "Gradient Descent(25/49): loss=95.95201060283901, w0=66.61964042916559, w1=13.172040811162947\n",
      "Gradient Descent(26/49): loss=82.68411069643552, w0=69.4526507658586, w1=14.528761590910976\n",
      "Gradient Descent(27/49): loss=87.53155035160272, w0=68.92912775300174, w1=15.133141791541414\n",
      "Gradient Descent(28/49): loss=91.16679472685439, w0=71.17029468280487, w1=17.521539472866618\n",
      "Gradient Descent(29/49): loss=101.80751988349174, w0=69.079920435267, w1=17.881396060185033\n",
      "Gradient Descent(30/49): loss=86.29997646662667, w0=71.92769550024732, w1=17.048082073938158\n",
      "Gradient Descent(31/49): loss=84.31830719461624, w0=71.70905362611762, w1=16.621615022495558\n",
      "Gradient Descent(32/49): loss=82.07640586204259, w0=71.0849358827531, w1=15.871612580305861\n",
      "Gradient Descent(33/49): loss=82.50499152614445, w0=71.26614850771863, w1=16.06472974955328\n",
      "Gradient Descent(34/49): loss=83.86957069587065, w0=71.04305362330106, w1=16.204861512285028\n",
      "Gradient Descent(35/49): loss=139.9751727973194, w0=63.125800628370335, w1=16.360437750189046\n",
      "Gradient Descent(36/49): loss=90.04858575203212, w0=67.47596868348722, w1=13.221992029832249\n",
      "Gradient Descent(37/49): loss=76.07461006670121, w0=70.14395556973975, w1=13.24649131824628\n",
      "Gradient Descent(38/49): loss=76.46167275446481, w0=74.70269272787073, w1=6.48969916478043\n",
      "Gradient Descent(39/49): loss=72.94273866240358, w0=77.21507557195153, w1=9.005434236191924\n",
      "Gradient Descent(40/49): loss=76.82064975403901, w0=78.71796044928927, w1=10.640051160965319\n",
      "Gradient Descent(41/49): loss=81.14485010713389, w0=79.51758896006906, w1=11.888185037010802\n",
      "Gradient Descent(42/49): loss=72.24478716878824, w0=77.21391210661838, w1=9.382584487932315\n",
      "Gradient Descent(43/49): loss=75.05235634249603, w0=78.01906465015153, w1=9.412918783261293\n",
      "Gradient Descent(44/49): loss=94.87204776088672, w0=80.73486215842473, w1=14.699999988976613\n",
      "Gradient Descent(45/49): loss=120.63475414789393, w0=72.52955482142728, w1=21.380997119906763\n",
      "Gradient Descent(46/49): loss=91.07779344731014, w0=79.58292933448963, w1=15.493318319922501\n",
      "Gradient Descent(47/49): loss=86.85134779197972, w0=71.35930095043659, w1=16.909010676994836\n",
      "Gradient Descent(48/49): loss=89.69344924017618, w0=70.90983602031496, w1=17.162917777077965\n",
      "Gradient Descent(49/49): loss=85.92012143888684, w0=71.32214269675173, w1=16.73051743901915\n",
      "SGD: execution time=0.017 seconds\n"
     ]
    }
   ],
   "source": [
    "# from stochastic_gradient_descent import *\n",
    "\n",
    "# Define the parameters of the algorithm.\n",
    "max_iters = 50\n",
    "gamma = 0.7\n",
    "batch_size = 1\n",
    "\n",
    "# Initialization\n",
    "w_initial = np.array([0, 0])\n",
    "\n",
    "# Start SGD.\n",
    "start_time = datetime.datetime.now()\n",
    "sgd_losses, sgd_ws = stochastic_gradient_descent(\n",
    "    y, tx, w_initial, batch_size, max_iters, gamma)\n",
    "end_time = datetime.datetime.now()\n",
    "\n",
    "# Print result\n",
    "exection_time = (end_time - start_time).total_seconds()\n",
    "print(\"SGD: execution time={t:.3f} seconds\".format(t=exection_time))"
   ]
  },
  {
   "cell_type": "code",
   "execution_count": 103,
   "metadata": {},
   "outputs": [
    {
     "data": {
      "application/vnd.jupyter.widget-view+json": {
       "model_id": "238038e54726459fa46b3c34f74d3d0a",
       "version_major": 2,
       "version_minor": 0
      },
      "text/plain": [
       "interactive(children=(IntSlider(value=1, description='n_iter', max=51, min=1), Output()), _dom_classes=('widge…"
      ]
     },
     "metadata": {},
     "output_type": "display_data"
    },
    {
     "data": {
      "text/plain": [
       "<function __main__.plot_figure(n_iter)>"
      ]
     },
     "execution_count": 103,
     "metadata": {},
     "output_type": "execute_result"
    }
   ],
   "source": [
    "# Time Visualization\n",
    "from ipywidgets import IntSlider, interact\n",
    "def plot_figure(n_iter):\n",
    "    fig = gradient_descent_visualization(\n",
    "        sgd_losses, sgd_ws, grid_losses, grid_w0, grid_w1, mean_x, std_x, height, weight, n_iter)\n",
    "    fig.set_size_inches(10.0, 6.0)\n",
    "\n",
    "interact(plot_figure, n_iter=IntSlider(min=1, max=len(gradient_ws)))"
   ]
  }
 ],
 "metadata": {
  "anaconda-cloud": {},
  "kernelspec": {
   "display_name": "Python 3",
   "language": "python",
   "name": "python3"
  },
  "language_info": {
   "codemirror_mode": {
    "name": "ipython",
    "version": 3
   },
   "file_extension": ".py",
   "mimetype": "text/x-python",
   "name": "python",
   "nbconvert_exporter": "python",
   "pygments_lexer": "ipython3",
   "version": "3.7.1"
  }
 },
 "nbformat": 4,
 "nbformat_minor": 1
}
